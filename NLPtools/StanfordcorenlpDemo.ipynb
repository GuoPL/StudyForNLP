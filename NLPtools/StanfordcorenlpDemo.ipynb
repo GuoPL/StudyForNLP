{
 "cells": [
  {
   "cell_type": "markdown",
   "metadata": {},
   "source": [
    "# Stanfordcorenlp工具Demo\n",
    "#### 安装：pip install stanfordcorenlp\n",
    "#### 先下载模型，下载地址：https://nlp.stanford.edu/software/corenlp-backup-download.html\n",
    "#### 支持多种语言，这里记录一下中英文使用方法"
   ]
  },
  {
   "cell_type": "code",
   "execution_count": 2,
   "metadata": {},
   "outputs": [],
   "source": [
    "from stanfordcorenlp import StanfordCoreNLP\n",
    "zh_model = StanfordCoreNLP(r'stanford-corenlp-full-2018-02-27', lang='zh')\n",
    "en_model = StanfordCoreNLP(r'stanford-corenlp-full-2018-02-27', lang='en')"
   ]
  },
  {
   "cell_type": "code",
   "execution_count": 4,
   "metadata": {},
   "outputs": [],
   "source": [
    "zh_sentence = '我爱自然语言处理技术！'\n",
    "en_sentence = 'I love natural language processing technology!'"
   ]
  },
  {
   "cell_type": "markdown",
   "metadata": {},
   "source": [
    "#### 1.分词(Tokenize)"
   ]
  },
  {
   "cell_type": "code",
   "execution_count": 7,
   "metadata": {},
   "outputs": [
    {
     "name": "stdout",
     "output_type": "stream",
     "text": [
      "Tokenize: ['我爱', '自然', '语言', '处理', '技术', '！']\n",
      "Tokenize: ['I', 'love', 'natural', 'language', 'processing', 'technology', '!']\n"
     ]
    }
   ],
   "source": [
    "print ('Tokenize:', zh_model.word_tokenize(zh_sentence))\n",
    "print ('Tokenize:', en_model.word_tokenize(en_sentence))"
   ]
  },
  {
   "cell_type": "markdown",
   "metadata": {},
   "source": [
    "#### 2.词性标注(Part of Speech)"
   ]
  },
  {
   "cell_type": "code",
   "execution_count": 8,
   "metadata": {},
   "outputs": [
    {
     "name": "stdout",
     "output_type": "stream",
     "text": [
      "Part of Speech: [('我爱', 'NN'), ('自然', 'AD'), ('语言', 'NN'), ('处理', 'VV'), ('技术', 'NN'), ('！', 'PU')]\n",
      "Part of Speech: [('I', 'PRP'), ('love', 'VBP'), ('natural', 'JJ'), ('language', 'NN'), ('processing', 'NN'), ('technology', 'NN'), ('!', '.')]\n"
     ]
    }
   ],
   "source": [
    "print ('Part of Speech:', zh_model.pos_tag(zh_sentence))\n",
    "print ('Part of Speech:', en_model.pos_tag(en_sentence))"
   ]
  },
  {
   "cell_type": "markdown",
   "metadata": {},
   "source": [
    "#### 3.命名实体识别(Named Entity)"
   ]
  },
  {
   "cell_type": "code",
   "execution_count": 9,
   "metadata": {},
   "outputs": [
    {
     "name": "stdout",
     "output_type": "stream",
     "text": [
      "Named Entities: [('我爱', 'O'), ('自然', 'O'), ('语言', 'O'), ('处理', 'O'), ('技术', 'O'), ('！', 'O')]\n",
      "Named Entities: [('I', 'O'), ('love', 'O'), ('natural', 'O'), ('language', 'O'), ('processing', 'O'), ('technology', 'O'), ('!', 'O')]\n"
     ]
    }
   ],
   "source": [
    "print ('Named Entities:', zh_model.ner(zh_sentence))\n",
    "print ('Named Entities:', en_model.ner(en_sentence))"
   ]
  },
  {
   "cell_type": "markdown",
   "metadata": {},
   "source": [
    "#### 4.句法成分分析(Constituency Parse)\n"
   ]
  },
  {
   "cell_type": "code",
   "execution_count": 12,
   "metadata": {},
   "outputs": [
    {
     "name": "stdout",
     "output_type": "stream",
     "text": [
      "Constituency Parsing: (ROOT\r\n",
      "  (IP\r\n",
      "    (IP\r\n",
      "      (NP (NN 我爱))\r\n",
      "      (ADVP (AD 自然))\r\n",
      "      (NP (NN 语言))\r\n",
      "      (VP (VV 处理)\r\n",
      "        (NP (NN 技术))))\r\n",
      "    (PU ！)))\n",
      "\n",
      "Constituency Parsing: (ROOT\r\n",
      "  (S\r\n",
      "    (NP (PRP I))\r\n",
      "    (VP (VBP love)\r\n",
      "      (NP (JJ natural) (NN language) (NN processing) (NN technology)))\r\n",
      "    (. !)))\n"
     ]
    }
   ],
   "source": [
    "print ('Constituency Parsing:', zh_model.parse(zh_sentence) + \"\\n\")\n",
    "print ('Constituency Parsing:', en_model.parse(en_sentence))"
   ]
  },
  {
   "cell_type": "markdown",
   "metadata": {},
   "source": [
    "#### 5.依存句法分析(Dependency Parse)"
   ]
  },
  {
   "cell_type": "code",
   "execution_count": 19,
   "metadata": {},
   "outputs": [
    {
     "name": "stdout",
     "output_type": "stream",
     "text": [
      "Dependency: [('ROOT', 0, 4), ('nsubj', 4, 1), ('advmod', 4, 2), ('nsubj', 4, 3), ('dobj', 4, 5), ('punct', 4, 6)]\n",
      "Dependency: [('ROOT', 0, 2), ('nsubj', 2, 1), ('amod', 6, 3), ('compound', 6, 4), ('compound', 6, 5), ('dobj', 2, 6), ('punct', 2, 7)]\n"
     ]
    }
   ],
   "source": [
    "print ('Dependency:', zh_model.dependency_parse(zh_sentence))\n",
    "print ('Dependency:', en_model.dependency_parse(en_sentence))"
   ]
  },
  {
   "cell_type": "code",
   "execution_count": null,
   "metadata": {},
   "outputs": [],
   "source": []
  }
 ],
 "metadata": {
  "kernelspec": {
   "display_name": "Python 3",
   "language": "python",
   "name": "python3"
  },
  "language_info": {
   "codemirror_mode": {
    "name": "ipython",
    "version": 3
   },
   "file_extension": ".py",
   "mimetype": "text/x-python",
   "name": "python",
   "nbconvert_exporter": "python",
   "pygments_lexer": "ipython3",
   "version": "3.5.6"
  }
 },
 "nbformat": 4,
 "nbformat_minor": 2
}
