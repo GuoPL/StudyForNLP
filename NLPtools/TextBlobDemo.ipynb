{
 "cells": [
  {
   "cell_type": "markdown",
   "metadata": {},
   "source": [
    "# TextBlob\n",
    "#### 安装：pip install textblob \n",
    "#### 配置国内源安装：pip install textblob  -i https://pypi.tuna.tsinghua.edu.cn/simple\n",
    "参考：https://textblob.readthedocs.io/en/dev/quickstart.html"
   ]
  },
  {
   "cell_type": "code",
   "execution_count": 15,
   "metadata": {},
   "outputs": [],
   "source": [
    "from textblob import TextBlob"
   ]
  },
  {
   "cell_type": "code",
   "execution_count": 32,
   "metadata": {},
   "outputs": [],
   "source": [
    "text = 'I love natural language processing! I am not like fish!'\n",
    "blob = TextBlob(text)"
   ]
  },
  {
   "cell_type": "markdown",
   "metadata": {},
   "source": [
    "#### 1.词性标注"
   ]
  },
  {
   "cell_type": "code",
   "execution_count": 33,
   "metadata": {},
   "outputs": [
    {
     "data": {
      "text/plain": [
       "[('I', 'PRP'),\n",
       " ('love', 'VBP'),\n",
       " ('natural', 'JJ'),\n",
       " ('language', 'NN'),\n",
       " ('processing', 'NN'),\n",
       " ('I', 'PRP'),\n",
       " ('am', 'VBP'),\n",
       " ('not', 'RB'),\n",
       " ('like', 'IN'),\n",
       " ('fish', 'NN')]"
      ]
     },
     "execution_count": 33,
     "metadata": {},
     "output_type": "execute_result"
    }
   ],
   "source": [
    "blob.tags "
   ]
  },
  {
   "cell_type": "markdown",
   "metadata": {},
   "source": [
    "#### 2.短语抽取"
   ]
  },
  {
   "cell_type": "code",
   "execution_count": 34,
   "metadata": {},
   "outputs": [
    {
     "name": "stdout",
     "output_type": "stream",
     "text": [
      "natural language processing\n"
     ]
    }
   ],
   "source": [
    "np = blob.noun_phrases \n",
    "for w in np:\n",
    "    print(w)"
   ]
  },
  {
   "cell_type": "markdown",
   "metadata": {},
   "source": [
    "#### 3.计算句子情感值"
   ]
  },
  {
   "cell_type": "code",
   "execution_count": 28,
   "metadata": {},
   "outputs": [
    {
     "name": "stdout",
     "output_type": "stream",
     "text": [
      "I love natural language processing!------>0.3125\n",
      "i am not like you!------>0.0\n"
     ]
    }
   ],
   "source": [
    "for sentence in blob.sentences:\n",
    "    print(sentence + '------>' +  str(sentence.sentiment.polarity))"
   ]
  },
  {
   "cell_type": "markdown",
   "metadata": {},
   "source": [
    "#### 4.Tokenization（把文本切割成句子或者单词）"
   ]
  },
  {
   "cell_type": "code",
   "execution_count": 36,
   "metadata": {},
   "outputs": [
    {
     "name": "stdout",
     "output_type": "stream",
     "text": [
      "I\n",
      "love\n",
      "natural\n",
      "language\n",
      "processing\n",
      "I\n",
      "am\n",
      "not\n",
      "like\n",
      "fish\n"
     ]
    }
   ],
   "source": [
    "token = blob.words\n",
    "for w in token:\n",
    "    print(w)"
   ]
  },
  {
   "cell_type": "code",
   "execution_count": 37,
   "metadata": {},
   "outputs": [
    {
     "name": "stdout",
     "output_type": "stream",
     "text": [
      "I love natural language processing!\n",
      "I am not like fish!\n"
     ]
    }
   ],
   "source": [
    "sentence = blob.sentences\n",
    "for s in sentence:\n",
    "    print(s)"
   ]
  },
  {
   "cell_type": "markdown",
   "metadata": {},
   "source": [
    "#### 5.词语变形(Words Inflection)"
   ]
  },
  {
   "cell_type": "code",
   "execution_count": 44,
   "metadata": {},
   "outputs": [
    {
     "name": "stdout",
     "output_type": "stream",
     "text": [
      "we\n",
      "I\n",
      "love\n",
      "love\n",
      "naturals\n",
      "natural\n",
      "languages\n",
      "language\n",
      "processings\n",
      "processing\n",
      "we\n",
      "I\n",
      "ams\n",
      "am\n",
      "nots\n",
      "not\n",
      "likes\n",
      "like\n",
      "fish\n",
      "fish\n"
     ]
    }
   ],
   "source": [
    "token = blob.words\n",
    "for w in token:\n",
    "    # 变复数\n",
    "    print(w.pluralize())\n",
    "    # 变单数\n",
    "    print(w.singularize())"
   ]
  },
  {
   "cell_type": "markdown",
   "metadata": {},
   "source": [
    "#### 6.词干化(Words Lemmatization)"
   ]
  },
  {
   "cell_type": "code",
   "execution_count": 49,
   "metadata": {},
   "outputs": [
    {
     "name": "stdout",
     "output_type": "stream",
     "text": [
      "go\n",
      "octopus\n"
     ]
    }
   ],
   "source": [
    "from textblob import Word\n",
    "w = Word('went')\n",
    "print(w.lemmatize('v'))\n",
    "w = Word('octopi')\n",
    "print(w.lemmatize())"
   ]
  },
  {
   "cell_type": "markdown",
   "metadata": {},
   "source": [
    "#### 7.集成WordNet"
   ]
  },
  {
   "cell_type": "code",
   "execution_count": 53,
   "metadata": {},
   "outputs": [
    {
     "name": "stdout",
     "output_type": "stream",
     "text": [
      "Synset('octopus.n.01')\n",
      "Synset('octopus.n.02')\n"
     ]
    }
   ],
   "source": [
    "from textblob.wordnet import VERB\n",
    "word = Word('octopus')\n",
    "syn_word = word.synsets\n",
    "for syn in syn_word:\n",
    "    print(syn)"
   ]
  },
  {
   "cell_type": "markdown",
   "metadata": {},
   "source": [
    "指定返回的同义词集为动词"
   ]
  },
  {
   "cell_type": "code",
   "execution_count": 55,
   "metadata": {},
   "outputs": [
    {
     "name": "stdout",
     "output_type": "stream",
     "text": [
      "Synset('chop.v.05')\n",
      "Synset('hack.v.02')\n",
      "Synset('hack.v.03')\n",
      "Synset('hack.v.04')\n",
      "Synset('hack.v.05')\n",
      "Synset('hack.v.06')\n",
      "Synset('hack.v.07')\n",
      "Synset('hack.v.08')\n"
     ]
    }
   ],
   "source": [
    "syn_word1 = Word(\"hack\").get_synsets(pos=VERB)\n",
    "for syn in syn_word1:\n",
    "    print(syn)"
   ]
  },
  {
   "cell_type": "markdown",
   "metadata": {},
   "source": [
    "查看synset(同义词集)的具体定义"
   ]
  },
  {
   "cell_type": "code",
   "execution_count": 57,
   "metadata": {},
   "outputs": [
    {
     "data": {
      "text/plain": [
       "['delighting the senses or exciting intellectual or emotional admiration',\n",
       " '(of weather) highly enjoyable']"
      ]
     },
     "execution_count": 57,
     "metadata": {},
     "output_type": "execute_result"
    }
   ],
   "source": [
    "Word(\"beautiful\").definitions"
   ]
  },
  {
   "cell_type": "markdown",
   "metadata": {},
   "source": [
    "#### 8.拼写纠正(Spelling Correction)"
   ]
  },
  {
   "cell_type": "code",
   "execution_count": 59,
   "metadata": {},
   "outputs": [
    {
     "name": "stdout",
     "output_type": "stream",
     "text": [
      "I love nature language processing!\n"
     ]
    }
   ],
   "source": [
    "sen = 'I lvoe naturl language processing!'\n",
    "sen = TextBlob(sen)\n",
    "print(sen.correct())"
   ]
  },
  {
   "cell_type": "markdown",
   "metadata": {},
   "source": [
    "Word.spellcheck()返回拼写建议以及置信度"
   ]
  },
  {
   "cell_type": "code",
   "execution_count": 63,
   "metadata": {},
   "outputs": [
    {
     "name": "stdout",
     "output_type": "stream",
     "text": [
      "[('good', 1.0)]\n",
      "[('god', 1.0)]\n",
      "[('go', 0.586139896373057), ('god', 0.23510362694300518), ('d', 0.11658031088082901), ('g', 0.03626943005181347), ('ed', 0.009067357512953367), ('rd', 0.006476683937823834), ('nd', 0.0038860103626943004), ('gr', 0.0025906735751295338), ('sd', 0.0006476683937823834), ('md', 0.0006476683937823834), ('id', 0.0006476683937823834), ('gdp', 0.0006476683937823834), ('ga', 0.0006476683937823834), ('ad', 0.0006476683937823834)]\n"
     ]
    }
   ],
   "source": [
    "w1 = Word('good')\n",
    "w2 = Word('god')\n",
    "w3 = Word('gd')\n",
    "print(w1.spellcheck())\n",
    "print(w2.spellcheck())\n",
    "print(w3.spellcheck())"
   ]
  },
  {
   "cell_type": "markdown",
   "metadata": {},
   "source": [
    "#### 9.句法分析(Parsing)"
   ]
  },
  {
   "cell_type": "code",
   "execution_count": 67,
   "metadata": {},
   "outputs": [
    {
     "name": "stdout",
     "output_type": "stream",
     "text": [
      "I/PRP/B-NP/O lvoe/NN/I-NP/O naturl/NN/I-NP/O language/NN/I-NP/O processing/NN/I-NP/O !/./O/O\n"
     ]
    }
   ],
   "source": [
    "text = TextBlob('I lvoe naturl language processing!')\n",
    "print(text.parse())"
   ]
  },
  {
   "cell_type": "markdown",
   "metadata": {},
   "source": [
    "#### 10.N-Grams"
   ]
  },
  {
   "cell_type": "code",
   "execution_count": 68,
   "metadata": {
    "scrolled": true
   },
   "outputs": [
    {
     "name": "stdout",
     "output_type": "stream",
     "text": [
      "[WordList(['I', 'lvoe']), WordList(['lvoe', 'naturl']), WordList(['naturl', 'language']), WordList(['language', 'processing'])]\n"
     ]
    }
   ],
   "source": [
    "text = TextBlob('I lvoe naturl language processing!')\n",
    "print(text.ngrams(n=2))"
   ]
  }
 ],
 "metadata": {
  "kernelspec": {
   "display_name": "Python 3",
   "language": "python",
   "name": "python3"
  },
  "language_info": {
   "codemirror_mode": {
    "name": "ipython",
    "version": 3
   },
   "file_extension": ".py",
   "mimetype": "text/x-python",
   "name": "python",
   "nbconvert_exporter": "python",
   "pygments_lexer": "ipython3",
   "version": "3.5.6"
  }
 },
 "nbformat": 4,
 "nbformat_minor": 2
}
