{
 "cells": [
  {
   "cell_type": "markdown",
   "metadata": {},
   "source": [
    "# TextBlob实现文本分类\n",
    "- 一个使用TextBlob进行Naive Bayes classifier\n",
    "- 参考：https://textblob.readthedocs.io/en/dev/classifiers.html#classifiers\n"
   ]
  },
  {
   "cell_type": "markdown",
   "metadata": {},
   "source": [
    "1.准备数据集：训练集和测试集"
   ]
  },
  {
   "cell_type": "code",
   "execution_count": 3,
   "metadata": {},
   "outputs": [],
   "source": [
    "train = [\n",
    "...     ('I love this sandwich.', 'pos'),\n",
    "...     ('this is an amazing place!', 'pos'),\n",
    "...     ('I feel very good about these beers.', 'pos'),\n",
    "...     ('this is my best work.', 'pos'),\n",
    "...     (\"what an awesome view\", 'pos'),\n",
    "...     ('I do not like this restaurant', 'neg'),\n",
    "...     ('I am tired of this stuff.', 'neg'),\n",
    "...     (\"I can't deal with this\", 'neg'),\n",
    "...     ('he is my sworn enemy!', 'neg'),\n",
    "...     ('my boss is horrible.', 'neg')\n",
    "... ]"
   ]
  },
  {
   "cell_type": "code",
   "execution_count": 5,
   "metadata": {},
   "outputs": [],
   "source": [
    "test = [\n",
    "...     ('the beer was good.', 'pos'),\n",
    "...     ('I do not enjoy my job', 'neg'),\n",
    "...     (\"I ain't feeling dandy today.\", 'neg'),\n",
    "...     (\"I feel amazing!\", 'pos'),\n",
    "...     ('Gary is a friend of mine.', 'pos'),\n",
    "...     (\"I can't believe I'm doing this.\", 'neg')\n",
    "... ]"
   ]
  },
  {
   "cell_type": "markdown",
   "metadata": {},
   "source": [
    "2.创建朴素贝叶斯分类器"
   ]
  },
  {
   "cell_type": "code",
   "execution_count": 6,
   "metadata": {},
   "outputs": [],
   "source": [
    "from textblob.classifiers import NaiveBayesClassifier"
   ]
  },
  {
   "cell_type": "markdown",
   "metadata": {},
   "source": [
    "3.把训练丢进去训练"
   ]
  },
  {
   "cell_type": "code",
   "execution_count": 7,
   "metadata": {},
   "outputs": [],
   "source": [
    "nb_model = NaiveBayesClassifier(train)"
   ]
  },
  {
   "cell_type": "markdown",
   "metadata": {},
   "source": [
    "4.预测新来的样本"
   ]
  },
  {
   "cell_type": "code",
   "execution_count": 9,
   "metadata": {},
   "outputs": [
    {
     "name": "stdout",
     "output_type": "stream",
     "text": [
      "pos\n"
     ]
    }
   ],
   "source": [
    "dev_sen = \"This is an amazing library!\"\n",
    "print(nb_model.classify(dev_sen))"
   ]
  },
  {
   "cell_type": "markdown",
   "metadata": {},
   "source": [
    "也可以计算属于某一类的概率"
   ]
  },
  {
   "cell_type": "code",
   "execution_count": 14,
   "metadata": {},
   "outputs": [
    {
     "name": "stdout",
     "output_type": "stream",
     "text": [
      "0.980117820324005\n"
     ]
    }
   ],
   "source": [
    "dev_sen_prob = nb_model.prob_classify(dev_sen)\n",
    "print(dev_sen_prob.prob(\"pos\"))"
   ]
  },
  {
   "cell_type": "markdown",
   "metadata": {},
   "source": [
    "5.计算模型在测试集上的精确度"
   ]
  },
  {
   "cell_type": "code",
   "execution_count": 16,
   "metadata": {},
   "outputs": [
    {
     "name": "stdout",
     "output_type": "stream",
     "text": [
      "0.8333333333333334\n"
     ]
    }
   ],
   "source": [
    "print(nb_model.accuracy(test))"
   ]
  },
  {
   "cell_type": "code",
   "execution_count": null,
   "metadata": {},
   "outputs": [],
   "source": []
  }
 ],
 "metadata": {
  "kernelspec": {
   "display_name": "Python 3",
   "language": "python",
   "name": "python3"
  },
  "language_info": {
   "codemirror_mode": {
    "name": "ipython",
    "version": 3
   },
   "file_extension": ".py",
   "mimetype": "text/x-python",
   "name": "python",
   "nbconvert_exporter": "python",
   "pygments_lexer": "ipython3",
   "version": "3.5.6"
  }
 },
 "nbformat": 4,
 "nbformat_minor": 2
}
