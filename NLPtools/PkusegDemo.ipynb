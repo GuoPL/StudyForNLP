{
 "cells": [
  {
   "cell_type": "markdown",
   "metadata": {},
   "source": [
    "# pkuseg工具Demo\n",
    "#### 安装：pip3 install -U pkuseg\n",
    "#### 国内源安装：pip3 install -i https://pypi.tuna.tsinghua.edu.cn/simple pkuseg\n",
    "#### 预训练模型地址：https://github.com/lancopku/PKUSeg-python"
   ]
  },
  {
   "cell_type": "code",
   "execution_count": 2,
   "metadata": {},
   "outputs": [],
   "source": [
    "import pkuseg"
   ]
  },
  {
   "cell_type": "markdown",
   "metadata": {},
   "source": [
    "- 使用默认模型及默认词典分词"
   ]
  },
  {
   "cell_type": "code",
   "execution_count": 3,
   "metadata": {},
   "outputs": [
    {
     "name": "stdout",
     "output_type": "stream",
     "text": [
      "loading model\n",
      "finish\n",
      "['我', '爱', '北京', '天安门']\n"
     ]
    }
   ],
   "source": [
    "seg = pkuseg.pkuseg()                                  # 以默认配置加载模型\n",
    "text = seg.cut('我爱北京天安门')                        # 进行分词\n",
    "print(text)"
   ]
  },
  {
   "cell_type": "markdown",
   "metadata": {},
   "source": [
    "- 设置用户自定义词典"
   ]
  },
  {
   "cell_type": "code",
   "execution_count": 4,
   "metadata": {},
   "outputs": [
    {
     "name": "stdout",
     "output_type": "stream",
     "text": [
      "loading model\n",
      "finish\n",
      "['我', '爱', '北京天安门']\n"
     ]
    }
   ],
   "source": [
    "lexicon = ['北京大学', '北京天安门']                     # 希望分词时用户词典中的词固定不分开\n",
    "seg = pkuseg.pkuseg(user_dict=lexicon)                  # 加载模型，给定用户词典\n",
    "text = seg.cut('我爱北京天安门')                         # 进行分词\n",
    "print(text)"
   ]
  },
  {
   "cell_type": "markdown",
   "metadata": {},
   "source": [
    "- 使用其它模型"
   ]
  },
  {
   "cell_type": "code",
   "execution_count": 6,
   "metadata": {},
   "outputs": [
    {
     "name": "stdout",
     "output_type": "stream",
     "text": [
      "loading model\n",
      "finish\n",
      "['我', '爱', '北京', '天安门']\n"
     ]
    }
   ],
   "source": [
    "seg = pkuseg.pkuseg(model_name='./msra')                # 假设用户已经下载好了msra的模型\n",
    "                                                        # 并放在了'./msra'目录下，通过设置model_name加载该模型\n",
    "text = seg.cut('我爱北京天安门')                         # 进行分词\n",
    "print(text)"
   ]
  },
  {
   "cell_type": "markdown",
   "metadata": {},
   "source": [
    "- 对文件分词"
   ]
  },
  {
   "cell_type": "code",
   "execution_count": 10,
   "metadata": {},
   "outputs": [],
   "source": [
    "import pkuseg\n",
    "\n",
    "#pkuseg.test('input.txt', 'output.txt', nthread=20)     # 对input.txt的文件分词输出到output.txt中，\n",
    "                                                      # 使用默认模型和词典，开20个进程"
   ]
  },
  {
   "cell_type": "markdown",
   "metadata": {},
   "source": [
    "- 训练新模型"
   ]
  },
  {
   "cell_type": "code",
   "execution_count": 9,
   "metadata": {},
   "outputs": [],
   "source": [
    "# 训练文件为'msr_training.utf8'\n",
    "# 测试文件为'msr_test_gold.utf8'\n",
    "# 模型存到'./models'目录下，开20个进程训练模型\n",
    "# pkuseg.train('msr_training.utf8', 'msr_test_gold.utf8', './models', nthread=20)\t"
   ]
  },
  {
   "cell_type": "markdown",
   "metadata": {},
   "source": [
    "# 参数说明\n",
    "\n",
    "\n",
    "- 模型配置\n",
    "```\n",
    "pkuseg.pkuseg(model_name='ctb8', user_dict=[])\n",
    "\tmodel_name\t\t模型路径。默认是'ctb8'表示我们预训练好的模型(仅对pip下载的用户)。\n",
    "\t                 用户可以填自己下载或训练的模型所在的路径如model_name='./models'。\n",
    "\tuser_dict\t\t设置用户词典。默认不使用词典。填'safe_lexicon'表示我们提供的一个中文词典(仅pip)。\n",
    "\t                 用户可以传入一个包含若干自定义单词的迭代器。\n",
    "```"
   ]
  },
  {
   "cell_type": "markdown",
   "metadata": {},
   "source": [
    "- 对文件进行分词\n",
    "```\n",
    "pkuseg.test(readFile, outputFile, model_name='ctb8', user_dict=[], nthread=10)\n",
    "\treadFile\t\t  输入文件路径\n",
    "\toutputFile\t\t输出文件路径\n",
    "\tmodel_name\t\t同pkuseg.pkuseg\n",
    "\tuser_dict\t\t 同pkuseg.pkuseg\n",
    "\tnthread\t\t   测试时开的进程数\n",
    "```"
   ]
  },
  {
   "cell_type": "markdown",
   "metadata": {},
   "source": [
    "- 模型训练\n",
    "```\n",
    "pkuseg.train(trainFile, testFile, savedir, nthread=10)\n",
    "\ttrainFile\t\t  训练文件路径\n",
    "\ttestFile\t\t   测试文件路径\n",
    "\tsavedir\t\t\t训练模型的保存路径\n",
    "\tnthread\t\t\t训练时开的进程数\n",
    "```"
   ]
  },
  {
   "cell_type": "markdown",
   "metadata": {},
   "source": [
    "#### 参考资料：\n",
    "- https://github.com/lancopku/PKUSeg-python"
   ]
  }
 ],
 "metadata": {
  "kernelspec": {
   "display_name": "Python 3",
   "language": "python",
   "name": "python3"
  },
  "language_info": {
   "codemirror_mode": {
    "name": "ipython",
    "version": 3
   },
   "file_extension": ".py",
   "mimetype": "text/x-python",
   "name": "python",
   "nbconvert_exporter": "python",
   "pygments_lexer": "ipython3",
   "version": "3.5.6"
  }
 },
 "nbformat": 4,
 "nbformat_minor": 2
}
