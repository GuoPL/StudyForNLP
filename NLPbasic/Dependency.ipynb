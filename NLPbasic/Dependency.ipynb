{
 "cells": [
  {
   "cell_type": "markdown",
   "metadata": {},
   "source": [
    "# Stanford CoreNLP依存句法分析(dependency parse)\n",
    "#### 安装：pip install stanfordcorenlp    \n",
    "#### 国内源安装：pip install stanfordcorenlp -i https://pypi.tuna.tsinghua.edu.cn/simple"
   ]
  },
  {
   "cell_type": "code",
   "execution_count": 1,
   "metadata": {
    "collapsed": true
   },
   "outputs": [],
   "source": [
    "from stanfordcorenlp import StanfordCoreNLP"
   ]
  },
  {
   "cell_type": "markdown",
   "metadata": {},
   "source": [
    "#### 使用stanfordcorenlp进行依存句法分析\n",
    "#### 先下载模型，下载地址：https://nlp.stanford.edu/software/corenlp-backup-download.html\n",
    "#### 对中文进行依存句法分析"
   ]
  },
  {
   "cell_type": "code",
   "execution_count": 3,
   "metadata": {},
   "outputs": [
    {
     "name": "stdout",
     "output_type": "stream",
     "text": [
      "[('ROOT', 0, 4), ('nsubj', 4, 1), ('advmod', 4, 2), ('nsubj', 4, 3), ('dobj', 4, 5), ('punct', 4, 6)]\n"
     ]
    }
   ],
   "source": [
    "zh_model = StanfordCoreNLP(r'stanford-corenlp-full-2018-02-27', lang='zh')\n",
    "s_zh = '我爱自然语言处理技术！'\n",
    "dep_zh = zh_model.dependency_parse(s_zh)\n",
    "print(dep_zh)"
   ]
  },
  {
   "cell_type": "markdown",
   "metadata": {},
   "source": [
    "#### 对英文进行依存句法分析"
   ]
  },
  {
   "cell_type": "code",
   "execution_count": 4,
   "metadata": {},
   "outputs": [
    {
     "name": "stdout",
     "output_type": "stream",
     "text": [
      "[('ROOT', 0, 2), ('nsubj', 2, 1), ('amod', 6, 3), ('compound', 6, 4), ('compound', 6, 5), ('dobj', 2, 6), ('punct', 2, 7)]\n"
     ]
    }
   ],
   "source": [
    "eng_model = StanfordCoreNLP(r'stanford-corenlp-full-2018-02-27')\n",
    "s_eng = 'I love natural language processing technology!'\n",
    "dep_eng = eng_model.dependency_parse(s_eng)\n",
    "print(dep_eng)"
   ]
  },
  {
   "cell_type": "markdown",
   "metadata": {},
   "source": [
    "# Hanlp依存句法分析\n",
    "#### 安装：pip install pyhanlp     \n",
    "#### 国内源安装：pip install pyhanlp  -i https://pypi.tuna.tsinghua.edu.cn/simple"
   ]
  },
  {
   "cell_type": "code",
   "execution_count": 5,
   "metadata": {},
   "outputs": [
    {
     "name": "stdout",
     "output_type": "stream",
     "text": [
      "1\t我\t我\tr\tr\t_\t2\t主谓关系\t_\t_\n",
      "2\t爱\t爱\tv\tv\t_\t0\t核心关系\t_\t_\n",
      "3\t自然语言处理\t自然语言处理\tv\tv\t_\t4\t定中关系\t_\t_\n",
      "4\t技术\t技术\tn\tn\t_\t2\t动宾关系\t_\t_\n",
      "5\t！\t！\twp\tw\t_\t2\t标点符号\t_\t_\n",
      "\n"
     ]
    }
   ],
   "source": [
    "from pyhanlp import *\n",
    "s_zh = '我爱自然语言处理技术！'\n",
    "dep_zh = HanLP.parseDependency(s_zh)\n",
    "print(dep_zh)"
   ]
  }
 ],
 "metadata": {
  "kernelspec": {
   "display_name": "Python 3",
   "language": "python",
   "name": "python3"
  },
  "language_info": {
   "codemirror_mode": {
    "name": "ipython",
    "version": 3
   },
   "file_extension": ".py",
   "mimetype": "text/x-python",
   "name": "python",
   "nbconvert_exporter": "python",
   "pygments_lexer": "ipython3",
   "version": "3.5.6"
  }
 },
 "nbformat": 4,
 "nbformat_minor": 2
}
