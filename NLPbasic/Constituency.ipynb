{
 "cells": [
  {
   "cell_type": "markdown",
   "metadata": {},
   "source": [
    "# Stanford CoreNLP句子成分分析(constituency parse)\n",
    "#### 安装：pip install stanfordcorenlp    \n",
    "#### 国内源安装：pip install stanfordcorenlp -i https://pypi.tuna.tsinghua.edu.cn/simple"
   ]
  },
  {
   "cell_type": "code",
   "execution_count": 1,
   "metadata": {
    "collapsed": true
   },
   "outputs": [],
   "source": [
    "from stanfordcorenlp import StanfordCoreNLP"
   ]
  },
  {
   "cell_type": "markdown",
   "metadata": {},
   "source": [
    "#### 使用stanfordcorenlp进行句法成分分析\n",
    "#### 先下载模型，下载地址：https://nlp.stanford.edu/software/corenlp-backup-download.html\n",
    "#### 对中文进行句子成分分析"
   ]
  },
  {
   "cell_type": "code",
   "execution_count": 2,
   "metadata": {},
   "outputs": [
    {
     "name": "stdout",
     "output_type": "stream",
     "text": [
      "(ROOT\r\n",
      "  (IP\r\n",
      "    (IP\r\n",
      "      (NP (NN 我爱))\r\n",
      "      (ADVP (AD 自然))\r\n",
      "      (NP (NN 语言))\r\n",
      "      (VP (VV 处理)\r\n",
      "        (NP (NN 技术))))\r\n",
      "    (PU ！)))\n"
     ]
    }
   ],
   "source": [
    "zh_model = StanfordCoreNLP(r'stanford-corenlp-full-2018-02-27', lang='zh')\n",
    "s_zh = '我爱自然语言处理技术！'\n",
    "con_zh = zh_model.parse(s_zh)\n",
    "print(con_zh)"
   ]
  },
  {
   "cell_type": "markdown",
   "metadata": {},
   "source": [
    "#### 对英文进行句子成分分析"
   ]
  },
  {
   "cell_type": "code",
   "execution_count": 3,
   "metadata": {},
   "outputs": [
    {
     "name": "stdout",
     "output_type": "stream",
     "text": [
      "(ROOT\r\n",
      "  (S\r\n",
      "    (NP (PRP I))\r\n",
      "    (VP (VBP love)\r\n",
      "      (NP (JJ natural) (NN language) (NN processing) (NN technology)))\r\n",
      "    (. !)))\n"
     ]
    }
   ],
   "source": [
    "eng_model = StanfordCoreNLP(r'stanford-corenlp-full-2018-02-27')\n",
    "s_eng = 'I love natural language processing technology!'\n",
    "con_eng = eng_model.parse(s_eng)\n",
    "print(con_eng)"
   ]
  }
 ],
 "metadata": {
  "kernelspec": {
   "display_name": "Python 3",
   "language": "python",
   "name": "python3"
  },
  "language_info": {
   "codemirror_mode": {
    "name": "ipython",
    "version": 3
   },
   "file_extension": ".py",
   "mimetype": "text/x-python",
   "name": "python",
   "nbconvert_exporter": "python",
   "pygments_lexer": "ipython3",
   "version": "3.5.6"
  }
 },
 "nbformat": 4,
 "nbformat_minor": 2
}
